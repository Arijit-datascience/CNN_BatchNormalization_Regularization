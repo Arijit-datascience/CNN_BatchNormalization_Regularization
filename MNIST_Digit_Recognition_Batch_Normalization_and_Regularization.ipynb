{
  "nbformat": 4,
  "nbformat_minor": 0,
  "metadata": {
    "accelerator": "GPU",
    "colab": {
      "name": "MNIST Digit Recognition Batch Normalization and Regularization.ipynb",
      "provenance": [],
      "collapsed_sections": [],
      "authorship_tag": "ABX9TyOhFOuLu/Q1V6RTtgOasj1V",
      "include_colab_link": true
    },
    "kernelspec": {
      "display_name": "Python 3",
      "name": "python3"
    },
    "language_info": {
      "name": "python"
    }
  },
  "cells": [
    {
      "cell_type": "markdown",
      "metadata": {
        "id": "view-in-github",
        "colab_type": "text"
      },
      "source": [
        "<a href=\"https://colab.research.google.com/github/Arijit-datascience/EVA6-BatchNormalization-Regularization/blob/main/MNIST_Digit_Recognition_Batch_Normalization_and_Regularization.ipynb\" target=\"_parent\"><img src=\"https://colab.research.google.com/assets/colab-badge.svg\" alt=\"Open In Colab\"/></a>"
      ]
    },
    {
      "cell_type": "code",
      "metadata": {
        "id": "jqrNA_iP8PLr",
        "colab": {
          "base_uri": "https://localhost:8080/"
        },
        "outputId": "13af731d-8aab-4628-9f2b-46ec8855af61"
      },
      "source": [
        "from __future__ import print_function\n",
        "import torch\n",
        "import torch.nn as nn\n",
        "import torch.nn.functional as F\n",
        "import torch.optim as optim\n",
        "from torchvision import datasets, transforms\n",
        "from torch.autograd import Variable\n",
        "from torch.utils.data import DataLoader, Dataset\n",
        "from torchvision.utils import make_grid\n",
        "from torch.optim.lr_scheduler import StepLR,OneCycleLR\n",
        "import numpy as np\n",
        "import os\n",
        "\n",
        "!pip install torchsummary\n",
        "from torchsummary import summary"
      ],
      "execution_count": 137,
      "outputs": [
        {
          "output_type": "stream",
          "text": [
            "Requirement already satisfied: torchsummary in /usr/local/lib/python3.7/dist-packages (1.5.1)\n"
          ],
          "name": "stdout"
        }
      ]
    },
    {
      "cell_type": "markdown",
      "metadata": {
        "id": "t6vQR4Yt_QFO"
      },
      "source": [
        "# Reading MNIST data"
      ]
    },
    {
      "cell_type": "code",
      "metadata": {
        "id": "mJZ5aHywr7xO"
      },
      "source": [
        "# Train Phase transformations\n",
        "train_transforms = transforms.Compose([\n",
        "                                       transforms.RandomRotation((-7.0, 7.0), fill=(1,)),                \n",
        "                                       transforms.ColorJitter(brightness=0.4, contrast=0.4, saturation=0.40, hue=0.1),\n",
        "                                       transforms.ToTensor(),\n",
        "                                       transforms.Normalize((0.1307,), (0.3081,))\n",
        "                                       ])\n",
        "\n",
        "# Test Phase transformations\n",
        "test_transforms = transforms.Compose([\n",
        "                                       transforms.ToTensor(),\n",
        "                                       transforms.Normalize((0.1307,), (0.3081,))\n",
        "                                       ])"
      ],
      "execution_count": 138,
      "outputs": []
    },
    {
      "cell_type": "code",
      "metadata": {
        "id": "EAUtmQAS94Ig"
      },
      "source": [
        "train_data = datasets.MNIST('../data', train=True, download=True, transform=train_transforms)\n",
        "test_data = datasets.MNIST('../data', train=False, download=True,transform=test_transforms)"
      ],
      "execution_count": 139,
      "outputs": []
    },
    {
      "cell_type": "code",
      "metadata": {
        "colab": {
          "base_uri": "https://localhost:8080/"
        },
        "id": "NEs3ymph-H0i",
        "outputId": "56d29ec0-68ad-4400-81ef-5242947d5f41"
      },
      "source": [
        "n_train = len(train_data)\n",
        "n_test = len(test_data)\n",
        "\n",
        "print('Number of training samples: {0}'.format(n_train))\n",
        "print('Number of test samples: {0}'.format(n_test))"
      ],
      "execution_count": 140,
      "outputs": [
        {
          "output_type": "stream",
          "text": [
            "Number of training samples: 60000\n",
            "Number of test samples: 10000\n"
          ],
          "name": "stdout"
        }
      ]
    },
    {
      "cell_type": "markdown",
      "metadata": {
        "id": "Ige0pxq5_Fw7"
      },
      "source": [
        "# Model Architecture"
      ]
    },
    {
      "cell_type": "markdown",
      "metadata": {
        "id": "K6v6YXTi6gc2"
      },
      "source": [
        "## Batch Normalization"
      ]
    },
    {
      "cell_type": "code",
      "metadata": {
        "id": "rZqURC3aCFUf"
      },
      "source": [
        "DROPOUT_VALUE = 0.04\n",
        "\n",
        "class BatchNormalization(nn.Module):\n",
        "    def __init__(self):\n",
        "        super(BatchNormalization, self).__init__()\n",
        "\n",
        "        # Input Block\n",
        "        self.conv1 = nn.Sequential(\n",
        "            nn.Conv2d(in_channels=1, out_channels=8, kernel_size=(3, 3), padding=0, bias=False), \n",
        "            nn.ReLU(),\n",
        "            nn.BatchNorm2d(8)\n",
        "        )\n",
        "        \n",
        "        # CONVOLUTION BLOCK 1\n",
        "        self.conv2 = nn.Sequential(\n",
        "            nn.Conv2d(in_channels=8, out_channels=16, kernel_size=(3, 3), padding=0, bias=False),\n",
        "            nn.ReLU(),\n",
        "            nn.BatchNorm2d(16)\n",
        "        )\n",
        "\n",
        "        # TRANSITION BLOCK 1\n",
        "        self.trans = nn.Sequential(\n",
        "            nn.Conv2d(in_channels=16, out_channels=8, kernel_size=(1, 1), padding=0, bias=False),\n",
        "            nn.MaxPool2d(2, 2)\n",
        "        )\n",
        "        \n",
        "        # CONVOLUTION BLOCK 2\n",
        "        self.conv3 = nn.Sequential(\n",
        "            nn.Conv2d(in_channels=8, out_channels=12, kernel_size=(3, 3), padding=0, bias=False),\n",
        "            nn.ReLU(),            \n",
        "            nn.BatchNorm2d(12),\n",
        "            nn.Conv2d(in_channels=12, out_channels=16, kernel_size=(3, 3), padding=0, bias=False),\n",
        "            nn.ReLU(),            \n",
        "            nn.BatchNorm2d(16),\n",
        "            nn.Dropout(DROPOUT_VALUE)\n",
        "        )\n",
        "\n",
        "        self.conv4 = nn.Sequential(\n",
        "            nn.Conv2d(in_channels=16, out_channels=16, kernel_size=(3, 3), padding=0, bias=False),\n",
        "            nn.ReLU(),            \n",
        "            nn.BatchNorm2d(16),\n",
        "            nn.Dropout(DROPOUT_VALUE)\n",
        "        )\n",
        "\n",
        "        self.conv5 = nn.Sequential(\n",
        "            nn.Conv2d(in_channels=16, out_channels=16, kernel_size=(3, 3), padding=1, bias=False),\n",
        "            nn.ReLU(),            \n",
        "            nn.BatchNorm2d(16),\n",
        "        )\n",
        "\n",
        "        # OUTPUT BLOCK\n",
        "        self.gap = nn.Sequential(\n",
        "            nn.AvgPool2d(kernel_size=6)\n",
        "        )\n",
        "\n",
        "        self.conv6 = nn.Sequential(\n",
        "            nn.Conv2d(in_channels=16, out_channels=10, kernel_size=(1, 1), padding=0, bias=False),\n",
        "        ) \n",
        "\n",
        "    def forward(self, x):\n",
        "        x = self.conv1(x)\n",
        "        x = self.conv2(x)\n",
        "        x = self.trans(x)\n",
        "        x = self.conv3(x)\n",
        "        x = self.conv4(x)\n",
        "        x = self.conv5(x)\n",
        "        x = self.gap(x)        \n",
        "        x = self.conv6(x)\n",
        "\n",
        "        x = x.view(-1, 10)\n",
        "        return F.log_softmax(x, dim=-1)"
      ],
      "execution_count": 141,
      "outputs": []
    },
    {
      "cell_type": "code",
      "metadata": {
        "colab": {
          "base_uri": "https://localhost:8080/"
        },
        "id": "0lqi0uRhLsKq",
        "outputId": "8d0bd2da-d1a1-42d1-9f82-6165bda08575"
      },
      "source": [
        "cuda = torch.cuda.is_available()\n",
        "device = torch.device(\"cuda\" if cuda else \"cpu\")\n",
        "\n",
        "model = BatchNormalization().to(device)\n",
        "summary(model, input_size=(1, 28, 28))"
      ],
      "execution_count": 142,
      "outputs": [
        {
          "output_type": "stream",
          "text": [
            "----------------------------------------------------------------\n",
            "        Layer (type)               Output Shape         Param #\n",
            "================================================================\n",
            "            Conv2d-1            [-1, 8, 26, 26]              72\n",
            "              ReLU-2            [-1, 8, 26, 26]               0\n",
            "       BatchNorm2d-3            [-1, 8, 26, 26]              16\n",
            "            Conv2d-4           [-1, 16, 24, 24]           1,152\n",
            "              ReLU-5           [-1, 16, 24, 24]               0\n",
            "       BatchNorm2d-6           [-1, 16, 24, 24]              32\n",
            "            Conv2d-7            [-1, 8, 24, 24]             128\n",
            "         MaxPool2d-8            [-1, 8, 12, 12]               0\n",
            "            Conv2d-9           [-1, 12, 10, 10]             864\n",
            "             ReLU-10           [-1, 12, 10, 10]               0\n",
            "      BatchNorm2d-11           [-1, 12, 10, 10]              24\n",
            "           Conv2d-12             [-1, 16, 8, 8]           1,728\n",
            "             ReLU-13             [-1, 16, 8, 8]               0\n",
            "      BatchNorm2d-14             [-1, 16, 8, 8]              32\n",
            "          Dropout-15             [-1, 16, 8, 8]               0\n",
            "           Conv2d-16             [-1, 16, 6, 6]           2,304\n",
            "             ReLU-17             [-1, 16, 6, 6]               0\n",
            "      BatchNorm2d-18             [-1, 16, 6, 6]              32\n",
            "          Dropout-19             [-1, 16, 6, 6]               0\n",
            "           Conv2d-20             [-1, 16, 6, 6]           2,304\n",
            "             ReLU-21             [-1, 16, 6, 6]               0\n",
            "      BatchNorm2d-22             [-1, 16, 6, 6]              32\n",
            "        AvgPool2d-23             [-1, 16, 1, 1]               0\n",
            "           Conv2d-24             [-1, 10, 1, 1]             160\n",
            "================================================================\n",
            "Total params: 8,880\n",
            "Trainable params: 8,880\n",
            "Non-trainable params: 0\n",
            "----------------------------------------------------------------\n",
            "Input size (MB): 0.00\n",
            "Forward/backward pass size (MB): 0.47\n",
            "Params size (MB): 0.03\n",
            "Estimated Total Size (MB): 0.51\n",
            "----------------------------------------------------------------\n"
          ],
          "name": "stdout"
        }
      ]
    },
    {
      "cell_type": "markdown",
      "metadata": {
        "id": "Rv4sT_U_6thw"
      },
      "source": [
        "## Group Normalization"
      ]
    },
    {
      "cell_type": "code",
      "metadata": {
        "id": "iX9QVS8Y6tDb"
      },
      "source": [
        "class GroupNormalization(nn.Module):\n",
        "    def __init__(self):\n",
        "        super(GroupNormalization, self).__init__()\n",
        "\n",
        "        # Input Block\n",
        "        self.conv1 = nn.Sequential(\n",
        "            nn.Conv2d(in_channels=1, out_channels=8, kernel_size=(3, 3), padding=0, bias=False), \n",
        "            nn.ReLU(),\n",
        "            nn.GroupNorm(num_groups=2, num_channels=8)\n",
        "        )\n",
        "        \n",
        "        # CONVOLUTION BLOCK 1\n",
        "        self.conv2 = nn.Sequential(\n",
        "            nn.Conv2d(in_channels=8, out_channels=16, kernel_size=(3, 3), padding=0, bias=False),\n",
        "            nn.ReLU(),\n",
        "            nn.GroupNorm(num_groups=4, num_channels=16)\n",
        "        )\n",
        "\n",
        "        # TRANSITION BLOCK 1\n",
        "        self.trans = nn.Sequential(\n",
        "            nn.Conv2d(in_channels=16, out_channels=8, kernel_size=(1, 1), padding=0, bias=False),\n",
        "            nn.MaxPool2d(2, 2)\n",
        "        )\n",
        "        \n",
        "        # CONVOLUTION BLOCK 2\n",
        "        self.conv3 = nn.Sequential(\n",
        "            nn.Conv2d(in_channels=8, out_channels=12, kernel_size=(3, 3), padding=0, bias=False),\n",
        "            nn.ReLU(),            \n",
        "            nn.GroupNorm(num_groups=3, num_channels=12),\n",
        "            nn.Conv2d(in_channels=12, out_channels=16, kernel_size=(3, 3), padding=0, bias=False),\n",
        "            nn.ReLU(),            \n",
        "            nn.GroupNorm(num_groups=4, num_channels=16),\n",
        "            nn.Dropout(DROPOUT_VALUE)\n",
        "        )\n",
        "\n",
        "        self.conv4 = nn.Sequential(\n",
        "            nn.Conv2d(in_channels=16, out_channels=16, kernel_size=(3, 3), padding=0, bias=False),\n",
        "            nn.ReLU(),            \n",
        "            nn.GroupNorm(num_groups=4, num_channels=16),\n",
        "            nn.Dropout(DROPOUT_VALUE)\n",
        "        )\n",
        "\n",
        "        self.conv5 = nn.Sequential(\n",
        "            nn.Conv2d(in_channels=16, out_channels=16, kernel_size=(3, 3), padding=1, bias=False),\n",
        "            nn.ReLU(),            \n",
        "            nn.GroupNorm(num_groups=4, num_channels=16),\n",
        "        )\n",
        "\n",
        "        # OUTPUT BLOCK\n",
        "        self.gap = nn.Sequential(\n",
        "            nn.AvgPool2d(kernel_size=6)\n",
        "        )\n",
        "\n",
        "        self.conv6 = nn.Sequential(\n",
        "            nn.Conv2d(in_channels=16, out_channels=10, kernel_size=(1, 1), padding=0, bias=False),\n",
        "        ) \n",
        "\n",
        "    def forward(self, x):\n",
        "        x = self.conv1(x)\n",
        "        x = self.conv2(x)\n",
        "        x = self.trans(x)\n",
        "        x = self.conv3(x)\n",
        "        x = self.conv4(x)\n",
        "        x = self.conv5(x)\n",
        "        x = self.gap(x)        \n",
        "        x = self.conv6(x)\n",
        "\n",
        "        x = x.view(-1, 10)\n",
        "        return F.log_softmax(x, dim=-1)"
      ],
      "execution_count": 143,
      "outputs": []
    },
    {
      "cell_type": "code",
      "metadata": {
        "colab": {
          "base_uri": "https://localhost:8080/"
        },
        "id": "0g8MbEeTL3NL",
        "outputId": "80e46f6f-c99c-491c-c0fe-f107fc2d24c2"
      },
      "source": [
        "model = GroupNormalization().to(device)\n",
        "summary(model, input_size=(1, 28, 28))"
      ],
      "execution_count": 144,
      "outputs": [
        {
          "output_type": "stream",
          "text": [
            "----------------------------------------------------------------\n",
            "        Layer (type)               Output Shape         Param #\n",
            "================================================================\n",
            "            Conv2d-1            [-1, 8, 26, 26]              72\n",
            "              ReLU-2            [-1, 8, 26, 26]               0\n",
            "         GroupNorm-3            [-1, 8, 26, 26]              16\n",
            "            Conv2d-4           [-1, 16, 24, 24]           1,152\n",
            "              ReLU-5           [-1, 16, 24, 24]               0\n",
            "         GroupNorm-6           [-1, 16, 24, 24]              32\n",
            "            Conv2d-7            [-1, 8, 24, 24]             128\n",
            "         MaxPool2d-8            [-1, 8, 12, 12]               0\n",
            "            Conv2d-9           [-1, 12, 10, 10]             864\n",
            "             ReLU-10           [-1, 12, 10, 10]               0\n",
            "        GroupNorm-11           [-1, 12, 10, 10]              24\n",
            "           Conv2d-12             [-1, 16, 8, 8]           1,728\n",
            "             ReLU-13             [-1, 16, 8, 8]               0\n",
            "        GroupNorm-14             [-1, 16, 8, 8]              32\n",
            "          Dropout-15             [-1, 16, 8, 8]               0\n",
            "           Conv2d-16             [-1, 16, 6, 6]           2,304\n",
            "             ReLU-17             [-1, 16, 6, 6]               0\n",
            "        GroupNorm-18             [-1, 16, 6, 6]              32\n",
            "          Dropout-19             [-1, 16, 6, 6]               0\n",
            "           Conv2d-20             [-1, 16, 6, 6]           2,304\n",
            "             ReLU-21             [-1, 16, 6, 6]               0\n",
            "        GroupNorm-22             [-1, 16, 6, 6]              32\n",
            "        AvgPool2d-23             [-1, 16, 1, 1]               0\n",
            "           Conv2d-24             [-1, 10, 1, 1]             160\n",
            "================================================================\n",
            "Total params: 8,880\n",
            "Trainable params: 8,880\n",
            "Non-trainable params: 0\n",
            "----------------------------------------------------------------\n",
            "Input size (MB): 0.00\n",
            "Forward/backward pass size (MB): 0.47\n",
            "Params size (MB): 0.03\n",
            "Estimated Total Size (MB): 0.51\n",
            "----------------------------------------------------------------\n"
          ],
          "name": "stdout"
        }
      ]
    },
    {
      "cell_type": "markdown",
      "metadata": {
        "id": "cA1jYw_6-d8R"
      },
      "source": [
        "## Layer Normalization"
      ]
    },
    {
      "cell_type": "code",
      "metadata": {
        "id": "XkbdPbtP-gip"
      },
      "source": [
        "class LayerNormalization(nn.Module):\n",
        "    def __init__(self):\n",
        "        super(LayerNormalization, self).__init__()\n",
        "\n",
        "        # Input Block\n",
        "        self.conv1 = nn.Sequential(\n",
        "            nn.Conv2d(in_channels=1, out_channels=8, kernel_size=(3, 3), padding=0, bias=False), \n",
        "            nn.ReLU(),\n",
        "            nn.LayerNorm((8,26,26))\n",
        "        )\n",
        "        \n",
        "        # CONVOLUTION BLOCK 1\n",
        "        self.conv2 = nn.Sequential(\n",
        "            nn.Conv2d(in_channels=8, out_channels=16, kernel_size=(3, 3), padding=0, bias=False),\n",
        "            nn.ReLU(),\n",
        "            nn.LayerNorm((16, 24, 24))\n",
        "        )\n",
        "\n",
        "        # TRANSITION BLOCK 1\n",
        "        self.trans = nn.Sequential(\n",
        "            nn.Conv2d(in_channels=16, out_channels=8, kernel_size=(1, 1), padding=0, bias=False),\n",
        "            nn.MaxPool2d(2, 2)\n",
        "        )\n",
        "        \n",
        "        # CONVOLUTION BLOCK 2\n",
        "        self.conv3 = nn.Sequential(\n",
        "            nn.Conv2d(in_channels=8, out_channels=12, kernel_size=(3, 3), padding=0, bias=False),\n",
        "            nn.ReLU(),            \n",
        "            nn.LayerNorm((12, 10, 10)),\n",
        "            nn.Conv2d(in_channels=12, out_channels=16, kernel_size=(3, 3), padding=0, bias=False),\n",
        "            nn.ReLU(),            \n",
        "            nn.LayerNorm((16, 8, 8)),\n",
        "            nn.Dropout(DROPOUT_VALUE)\n",
        "        )\n",
        "\n",
        "        self.conv4 = nn.Sequential(\n",
        "            nn.Conv2d(in_channels=16, out_channels=16, kernel_size=(3, 3), padding=0, bias=False),\n",
        "            nn.ReLU(),            \n",
        "            nn.LayerNorm((16, 6, 6)),\n",
        "            nn.Dropout(DROPOUT_VALUE)\n",
        "        )\n",
        "\n",
        "        self.conv5 = nn.Sequential(\n",
        "            nn.Conv2d(in_channels=16, out_channels=16, kernel_size=(3, 3), padding=1, bias=False),\n",
        "            nn.ReLU(),            \n",
        "            nn.LayerNorm((16, 6, 6)),\n",
        "        )\n",
        "\n",
        "        # OUTPUT BLOCK\n",
        "        self.gap = nn.Sequential(\n",
        "            nn.AvgPool2d(kernel_size=6)\n",
        "        )\n",
        "\n",
        "        self.conv6 = nn.Sequential(\n",
        "            nn.Conv2d(in_channels=16, out_channels=10, kernel_size=(1, 1), padding=0, bias=False),\n",
        "        ) \n",
        "\n",
        "    def forward(self, x):\n",
        "        x = self.conv1(x)\n",
        "        x = self.conv2(x)\n",
        "        x = self.trans(x)\n",
        "        x = self.conv3(x)\n",
        "        x = self.conv4(x)\n",
        "        x = self.conv5(x)\n",
        "        x = self.gap(x)        \n",
        "        x = self.conv6(x)\n",
        "\n",
        "        x = x.view(-1, 10)\n",
        "        return F.log_softmax(x, dim=-1)"
      ],
      "execution_count": 145,
      "outputs": []
    },
    {
      "cell_type": "markdown",
      "metadata": {
        "id": "7yYRcxfL-FLD"
      },
      "source": [
        "# Model Summary"
      ]
    },
    {
      "cell_type": "code",
      "metadata": {
        "colab": {
          "base_uri": "https://localhost:8080/"
        },
        "id": "rcu4v1dcCKHu",
        "outputId": "3550f26b-3180-4f37-b6cd-059dc8021360"
      },
      "source": [
        "model = LayerNormalization().to(device)\n",
        "summary(model, input_size=(1, 28, 28))"
      ],
      "execution_count": 146,
      "outputs": [
        {
          "output_type": "stream",
          "text": [
            "----------------------------------------------------------------\n",
            "        Layer (type)               Output Shape         Param #\n",
            "================================================================\n",
            "            Conv2d-1            [-1, 8, 26, 26]              72\n",
            "              ReLU-2            [-1, 8, 26, 26]               0\n",
            "         LayerNorm-3            [-1, 8, 26, 26]          10,816\n",
            "            Conv2d-4           [-1, 16, 24, 24]           1,152\n",
            "              ReLU-5           [-1, 16, 24, 24]               0\n",
            "         LayerNorm-6           [-1, 16, 24, 24]          18,432\n",
            "            Conv2d-7            [-1, 8, 24, 24]             128\n",
            "         MaxPool2d-8            [-1, 8, 12, 12]               0\n",
            "            Conv2d-9           [-1, 12, 10, 10]             864\n",
            "             ReLU-10           [-1, 12, 10, 10]               0\n",
            "        LayerNorm-11           [-1, 12, 10, 10]           2,400\n",
            "           Conv2d-12             [-1, 16, 8, 8]           1,728\n",
            "             ReLU-13             [-1, 16, 8, 8]               0\n",
            "        LayerNorm-14             [-1, 16, 8, 8]           2,048\n",
            "          Dropout-15             [-1, 16, 8, 8]               0\n",
            "           Conv2d-16             [-1, 16, 6, 6]           2,304\n",
            "             ReLU-17             [-1, 16, 6, 6]               0\n",
            "        LayerNorm-18             [-1, 16, 6, 6]           1,152\n",
            "          Dropout-19             [-1, 16, 6, 6]               0\n",
            "           Conv2d-20             [-1, 16, 6, 6]           2,304\n",
            "             ReLU-21             [-1, 16, 6, 6]               0\n",
            "        LayerNorm-22             [-1, 16, 6, 6]           1,152\n",
            "        AvgPool2d-23             [-1, 16, 1, 1]               0\n",
            "           Conv2d-24             [-1, 10, 1, 1]             160\n",
            "================================================================\n",
            "Total params: 44,712\n",
            "Trainable params: 44,712\n",
            "Non-trainable params: 0\n",
            "----------------------------------------------------------------\n",
            "Input size (MB): 0.00\n",
            "Forward/backward pass size (MB): 0.47\n",
            "Params size (MB): 0.17\n",
            "Estimated Total Size (MB): 0.64\n",
            "----------------------------------------------------------------\n"
          ],
          "name": "stdout"
        }
      ]
    },
    {
      "cell_type": "code",
      "metadata": {
        "id": "UlRA6GNm6Aia"
      },
      "source": [
        "def seed_everything(seed):\n",
        "    os.environ['PYTHONHASHSEED'] = str(seed)\n",
        "    np.random.seed(seed)\n",
        "    torch.manual_seed(seed)\n",
        "    torch.cuda.manual_seed(seed)\n",
        "    torch.backends.cudnn.deterministic = True\n",
        "    torch.backends.cudnn.benchmark = True"
      ],
      "execution_count": 147,
      "outputs": []
    },
    {
      "cell_type": "markdown",
      "metadata": {
        "id": "1PAL1z7a-ZiO"
      },
      "source": [
        "# Train Loop"
      ]
    },
    {
      "cell_type": "code",
      "metadata": {
        "id": "W84d88IDYI2E"
      },
      "source": [
        "def train(model, device, train_loader, optimizer, scheduler, epoch, L1, l1_factor):\n",
        "    model.train()\n",
        "    epoch_loss = 0\n",
        "    correct = 0\n",
        "\n",
        "    for batch_idx, (data, target) in enumerate(train_loader):\n",
        "        data, target = data.to(device), target.to(device)\n",
        "        optimizer.zero_grad()\n",
        "        output = model(data)\n",
        "        loss = F.nll_loss(output, target)\n",
        "\n",
        "        if L1:\n",
        "          L1_loss = nn.L1Loss(size_average=None, reduce=None, reduction='mean')\n",
        "          reg_loss = 0 \n",
        "          for param in model.parameters():\n",
        "            zero_vector = torch.rand_like(param) * 0\n",
        "            reg_loss += L1_loss(param,zero_vector)\n",
        "          loss += l1_factor * reg_loss\n",
        "\n",
        "        epoch_loss += loss.item()\n",
        "        loss.backward()\n",
        "        optimizer.step()\n",
        "        scheduler.step()\n",
        "        pred = output.argmax(dim=1, keepdim=True)  # get the index of the max log-probability\n",
        "        correct += pred.eq(target.view_as(pred)).sum().item()\n",
        "\n",
        "    print(f'Train set: Average loss: {loss.item():.4f}, Accuracy: {100. * correct/len(train_loader.dataset):.2f}')\n",
        "    train_loss = epoch_loss / len(train_loader)\n",
        "    train_acc=100.*correct/len(train_loader.dataset)\n",
        "    return train_loss, train_acc"
      ],
      "execution_count": 148,
      "outputs": []
    },
    {
      "cell_type": "markdown",
      "metadata": {
        "id": "iutOWfTJ-eHu"
      },
      "source": [
        "# Test Loop"
      ]
    },
    {
      "cell_type": "code",
      "metadata": {
        "id": "zxKGXJsJoddU"
      },
      "source": [
        "def test(model, device, test_loader):\n",
        "    model.eval()\n",
        "    test_loss = 0\n",
        "    correct = 0\n",
        "    test_pred = torch.LongTensor()\n",
        "    target_pred = torch.LongTensor()\n",
        "    target_data = torch.LongTensor()\n",
        "\n",
        "    with torch.no_grad():\n",
        "        for data, target in test_loader:\n",
        "            data, target = data.to(device), target.to(device)\n",
        "            output = model(data)\n",
        "            test_loss += F.nll_loss(output, target, reduction='sum').item()  # sum up batch loss\n",
        "            pred = output.argmax(dim=1, keepdim=True)  # get the index of the max log-probability\n",
        "            pred_cpu = output.cpu().data.max(dim=1, keepdim=True)[1]\n",
        "            correct += pred.eq(target.view_as(pred)).sum().item()\n",
        "            test_pred = torch.cat((test_pred, pred_cpu), dim=0)\n",
        "            target_pred = torch.cat((target_pred, target.cpu()), dim=0)\n",
        "            target_data = torch.cat((target_data, data.cpu()), dim=0)\n",
        "\n",
        "\n",
        "    test_loss /= len(test_loader.dataset)\n",
        "    test_acc = 100.*correct/len(test_loader.dataset)\n",
        "    print(f'\\nTest set: Average loss: {test_loss:.3f}, Accuracy: {100. * correct/len(test_loader.dataset):.2f}')\n",
        "    return test_loss, test_acc, test_pred, target_pred, target_data"
      ],
      "execution_count": 149,
      "outputs": []
    },
    {
      "cell_type": "markdown",
      "metadata": {
        "id": "Nu18tbPynB-E"
      },
      "source": [
        "## Function of plotting misclassified images"
      ]
    },
    {
      "cell_type": "code",
      "metadata": {
        "id": "UPiGoutoZ3D3"
      },
      "source": [
        "def misclassification(predictions, targets, data, xtitle):\n",
        "  pred = predictions.view(-1)\n",
        "  target = targets.view(-1)\n",
        "\n",
        "  index = 0\n",
        "  misclassified_image = []\n",
        "\n",
        "  for label, predict in zip(target, pred):\n",
        "    if label != predict:\n",
        "      misclassified_image.append(index)\n",
        "    index += 1\n",
        "\n",
        "  plt.figure(figsize=(10,5))\n",
        "  plt.suptitle(xtitle + ' - Misclassified Images');\n",
        "\n",
        "  for plot_index, bad_index in enumerate(misclassified_image[0:10]):\n",
        "    p = plt.subplot(2, 5, plot_index+1)\n",
        "    p.imshow(data[bad_index].reshape(28,28), cmap='binary')\n",
        "    p.axis('off')\n",
        "    p.set_title(f'Pred:{pred[bad_index]}, Actual:{target[bad_index]}')"
      ],
      "execution_count": 166,
      "outputs": []
    },
    {
      "cell_type": "markdown",
      "metadata": {
        "id": "EExDDf3f-rST"
      },
      "source": [
        "# Running the model"
      ]
    },
    {
      "cell_type": "code",
      "metadata": {
        "id": "YdkLxcqcYOHu"
      },
      "source": [
        "def main(EPOCH, model, device, train_loader, test_loader, optimizer, scheduler, L1, l1_factor):\n",
        "  train_loss_values = []\n",
        "  test_loss_values = []\n",
        "  train_acc_values = []\n",
        "  test_acc_values = []\n",
        "\n",
        "  for epoch in range(1, EPOCH + 1):\n",
        "      print('\\nEpoch {} : '.format(epoch))\n",
        "      # train the model\n",
        "      train_loss, train_acc = train(model, device, train_loader, optimizer, scheduler, epoch, L1, l1_factor)\n",
        "      test_loss, test_acc, test_pred, target_pred, target_data = test(model, device, test_loader)\n",
        "\n",
        "      train_loss_values.append(train_loss)\n",
        "      test_loss_values.append(test_loss)\n",
        "\n",
        "      train_acc_values.append(train_acc)\n",
        "      test_acc_values.append(test_acc)\n",
        "\n",
        "  return train_loss_values, test_loss_values, train_acc_values, test_acc_values, test_pred, target_pred, target_data"
      ],
      "execution_count": 153,
      "outputs": []
    },
    {
      "cell_type": "code",
      "metadata": {
        "colab": {
          "base_uri": "https://localhost:8080/"
        },
        "id": "y5RICcjkTa2c",
        "outputId": "742ab4d2-01ba-425a-8fed-f562081c5e2e"
      },
      "source": [
        "if __name__=='__main__':\n",
        "\n",
        "  EPOCH = 20\n",
        "  batch_size = 64\n",
        "  l1_factor = 0.0001\n",
        "\n",
        "  cuda = torch.cuda.is_available()\n",
        "  device = torch.device(\"cuda\" if cuda else \"cpu\")\n",
        "\n",
        "  seed_everything(1)\n",
        "\n",
        "  kwargs = {'num_workers': 1, 'pin_memory': True} if cuda else {}\n",
        "  train_loader = torch.utils.data.DataLoader(train_data, batch_size=batch_size, shuffle=True, **kwargs)\n",
        "  test_loader = torch.utils.data.DataLoader(test_data, batch_size=batch_size, shuffle=True, **kwargs)\n",
        "  \n",
        "  model = BatchNormalization().to(device)\n",
        "  optimizer = optim.SGD(model.parameters(), lr=0.02, momentum=0.8)\n",
        "  scheduler = OneCycleLR(optimizer, max_lr=0.015,epochs=20,steps_per_epoch=len(train_loader))\n",
        "  \n",
        "  print(\"------------------------------------------\")\n",
        "  print(\"Batch Normalization with L1 regularization\")\n",
        "  print(\"------------------------------------------\")\n",
        "  BN_train_loss, BN_test_loss, BN_train_acc, BN_test_acc, BN_test_pred, BN_target_pred, BN_target_data = main(EPOCH, model, device, train_loader, test_loader, optimizer, scheduler, True, l1_factor)\n",
        "\n",
        "  model = GroupNormalization().to(device)\n",
        "  optimizer = optim.SGD(model.parameters(), lr=0.02, momentum=0.8)\n",
        "  scheduler = OneCycleLR(optimizer, max_lr=0.015,epochs=20,steps_per_epoch=len(train_loader))\n",
        "\n",
        "  print(\"------------------------------------------\")\n",
        "  print(\"Group Normalization\")\n",
        "  print(\"------------------------------------------\")\n",
        "  GN_train_loss, GN_test_loss, GN_train_acc, GN_test_acc, GN_test_pred, GN_target_pred, GN_target_data = main(EPOCH, model, device, train_loader, test_loader, optimizer, scheduler, False, l1_factor)\n",
        "\n",
        "  model = LayerNormalization().to(device)\n",
        "  optimizer = optim.SGD(model.parameters(), lr=0.02, momentum=0.8)\n",
        "  scheduler = OneCycleLR(optimizer, max_lr=0.015,epochs=20,steps_per_epoch=len(train_loader))\n",
        "\n",
        "  print(\"------------------------------------------\")\n",
        "  print(\"Layer Normalization\")\n",
        "  print(\"------------------------------------------\")\n",
        "  LN_train_loss, LN_test_loss, LN_train_acc, LN_test_acc, LN_test_pred, LN_target_pred, LN_target_data = main(EPOCH, model, device, train_loader, test_loader, optimizer, scheduler, False, l1_factor)\n"
      ],
      "execution_count": 155,
      "outputs": [
        {
          "output_type": "stream",
          "text": [
            "------------------------------------------\n",
            "Batch Normalization with L1 regularization\n",
            "------------------------------------------\n",
            "\n",
            "Epoch 1 : \n",
            "Train set: Average loss: 0.2708, Accuracy: 76.57\n",
            "\n",
            "Test set: Average loss: 0.148, Accuracy: 97.27\n",
            "\n",
            "Epoch 2 : \n",
            "Train set: Average loss: 0.0628, Accuracy: 96.52\n",
            "\n",
            "Test set: Average loss: 0.063, Accuracy: 98.39\n",
            "\n",
            "Epoch 3 : \n",
            "Train set: Average loss: 0.1138, Accuracy: 97.72\n",
            "\n",
            "Test set: Average loss: 0.040, Accuracy: 98.83\n",
            "\n",
            "Epoch 4 : \n",
            "Train set: Average loss: 0.0995, Accuracy: 98.09\n",
            "\n",
            "Test set: Average loss: 0.044, Accuracy: 98.67\n",
            "\n",
            "Epoch 5 : \n",
            "Train set: Average loss: 0.0074, Accuracy: 98.37\n",
            "\n",
            "Test set: Average loss: 0.028, Accuracy: 99.17\n",
            "\n",
            "Epoch 6 : \n",
            "Train set: Average loss: 0.2000, Accuracy: 98.61\n",
            "\n",
            "Test set: Average loss: 0.023, Accuracy: 99.33\n",
            "\n",
            "Epoch 7 : \n",
            "Train set: Average loss: 0.0054, Accuracy: 98.68\n",
            "\n",
            "Test set: Average loss: 0.025, Accuracy: 99.21\n",
            "\n",
            "Epoch 8 : \n",
            "Train set: Average loss: 0.0337, Accuracy: 98.81\n",
            "\n",
            "Test set: Average loss: 0.028, Accuracy: 99.09\n",
            "\n",
            "Epoch 9 : \n",
            "Train set: Average loss: 0.0183, Accuracy: 98.89\n",
            "\n",
            "Test set: Average loss: 0.022, Accuracy: 99.26\n",
            "\n",
            "Epoch 10 : \n",
            "Train set: Average loss: 0.0228, Accuracy: 98.93\n",
            "\n",
            "Test set: Average loss: 0.021, Accuracy: 99.33\n",
            "\n",
            "Epoch 11 : \n",
            "Train set: Average loss: 0.0403, Accuracy: 99.01\n",
            "\n",
            "Test set: Average loss: 0.021, Accuracy: 99.37\n",
            "\n",
            "Epoch 12 : \n",
            "Train set: Average loss: 0.1357, Accuracy: 99.05\n",
            "\n",
            "Test set: Average loss: 0.024, Accuracy: 99.27\n",
            "\n",
            "Epoch 13 : \n",
            "Train set: Average loss: 0.0097, Accuracy: 99.10\n",
            "\n",
            "Test set: Average loss: 0.018, Accuracy: 99.38\n",
            "\n",
            "Epoch 14 : \n",
            "Train set: Average loss: 0.0108, Accuracy: 99.19\n",
            "\n",
            "Test set: Average loss: 0.018, Accuracy: 99.39\n",
            "\n",
            "Epoch 15 : \n",
            "Train set: Average loss: 0.0027, Accuracy: 99.23\n",
            "\n",
            "Test set: Average loss: 0.020, Accuracy: 99.41\n",
            "\n",
            "Epoch 16 : \n",
            "Train set: Average loss: 0.2203, Accuracy: 99.28\n",
            "\n",
            "Test set: Average loss: 0.019, Accuracy: 99.37\n",
            "\n",
            "Epoch 17 : \n",
            "Train set: Average loss: 0.0115, Accuracy: 99.31\n",
            "\n",
            "Test set: Average loss: 0.017, Accuracy: 99.46\n",
            "\n",
            "Epoch 18 : \n",
            "Train set: Average loss: 0.0070, Accuracy: 99.36\n",
            "\n",
            "Test set: Average loss: 0.017, Accuracy: 99.44\n",
            "\n",
            "Epoch 19 : \n",
            "Train set: Average loss: 0.0059, Accuracy: 99.42\n",
            "\n",
            "Test set: Average loss: 0.016, Accuracy: 99.44\n",
            "\n",
            "Epoch 20 : \n",
            "Train set: Average loss: 0.0057, Accuracy: 99.48\n",
            "\n",
            "Test set: Average loss: 0.016, Accuracy: 99.48\n",
            "------------------------------------------\n",
            "Group Normalization\n",
            "------------------------------------------\n",
            "\n",
            "Epoch 1 : \n",
            "Train set: Average loss: 0.3426, Accuracy: 71.41\n",
            "\n",
            "Test set: Average loss: 0.213, Accuracy: 95.81\n",
            "\n",
            "Epoch 2 : \n",
            "Train set: Average loss: 0.0929, Accuracy: 96.25\n",
            "\n",
            "Test set: Average loss: 0.073, Accuracy: 97.89\n",
            "\n",
            "Epoch 3 : \n",
            "Train set: Average loss: 0.0314, Accuracy: 97.43\n",
            "\n",
            "Test set: Average loss: 0.074, Accuracy: 97.68\n",
            "\n",
            "Epoch 4 : \n",
            "Train set: Average loss: 0.0429, Accuracy: 97.99\n",
            "\n",
            "Test set: Average loss: 0.036, Accuracy: 98.96\n",
            "\n",
            "Epoch 5 : \n",
            "Train set: Average loss: 0.1378, Accuracy: 98.30\n",
            "\n",
            "Test set: Average loss: 0.035, Accuracy: 98.92\n",
            "\n",
            "Epoch 6 : \n",
            "Train set: Average loss: 0.0204, Accuracy: 98.58\n",
            "\n",
            "Test set: Average loss: 0.024, Accuracy: 99.32\n",
            "\n",
            "Epoch 7 : \n",
            "Train set: Average loss: 0.0359, Accuracy: 98.78\n",
            "\n",
            "Test set: Average loss: 0.026, Accuracy: 99.20\n",
            "\n",
            "Epoch 8 : \n",
            "Train set: Average loss: 0.0182, Accuracy: 98.93\n",
            "\n",
            "Test set: Average loss: 0.028, Accuracy: 99.13\n",
            "\n",
            "Epoch 9 : \n",
            "Train set: Average loss: 0.0064, Accuracy: 98.97\n",
            "\n",
            "Test set: Average loss: 0.023, Accuracy: 99.23\n",
            "\n",
            "Epoch 10 : \n",
            "Train set: Average loss: 0.0142, Accuracy: 99.06\n",
            "\n",
            "Test set: Average loss: 0.024, Accuracy: 99.27\n",
            "\n",
            "Epoch 11 : \n",
            "Train set: Average loss: 0.1768, Accuracy: 99.15\n",
            "\n",
            "Test set: Average loss: 0.022, Accuracy: 99.26\n",
            "\n",
            "Epoch 12 : \n",
            "Train set: Average loss: 0.0076, Accuracy: 99.16\n",
            "\n",
            "Test set: Average loss: 0.023, Accuracy: 99.32\n",
            "\n",
            "Epoch 13 : \n",
            "Train set: Average loss: 0.0012, Accuracy: 99.23\n",
            "\n",
            "Test set: Average loss: 0.021, Accuracy: 99.40\n",
            "\n",
            "Epoch 14 : \n",
            "Train set: Average loss: 0.0258, Accuracy: 99.33\n",
            "\n",
            "Test set: Average loss: 0.019, Accuracy: 99.39\n",
            "\n",
            "Epoch 15 : \n",
            "Train set: Average loss: 0.1148, Accuracy: 99.30\n",
            "\n",
            "Test set: Average loss: 0.024, Accuracy: 99.29\n",
            "\n",
            "Epoch 16 : \n",
            "Train set: Average loss: 0.0088, Accuracy: 99.43\n",
            "\n",
            "Test set: Average loss: 0.017, Accuracy: 99.47\n",
            "\n",
            "Epoch 17 : \n",
            "Train set: Average loss: 0.0444, Accuracy: 99.49\n",
            "\n",
            "Test set: Average loss: 0.015, Accuracy: 99.53\n",
            "\n",
            "Epoch 18 : \n",
            "Train set: Average loss: 0.0032, Accuracy: 99.56\n",
            "\n",
            "Test set: Average loss: 0.015, Accuracy: 99.53\n",
            "\n",
            "Epoch 19 : \n",
            "Train set: Average loss: 0.0038, Accuracy: 99.56\n",
            "\n",
            "Test set: Average loss: 0.014, Accuracy: 99.53\n",
            "\n",
            "Epoch 20 : \n",
            "Train set: Average loss: 0.0361, Accuracy: 99.63\n",
            "\n",
            "Test set: Average loss: 0.014, Accuracy: 99.52\n",
            "------------------------------------------\n",
            "Layer Normalization\n",
            "------------------------------------------\n",
            "\n",
            "Epoch 1 : \n",
            "Train set: Average loss: 0.2093, Accuracy: 77.40\n",
            "\n",
            "Test set: Average loss: 0.282, Accuracy: 95.36\n",
            "\n",
            "Epoch 2 : \n",
            "Train set: Average loss: 0.2594, Accuracy: 95.94\n",
            "\n",
            "Test set: Average loss: 0.099, Accuracy: 97.58\n",
            "\n",
            "Epoch 3 : \n",
            "Train set: Average loss: 0.0186, Accuracy: 97.59\n",
            "\n",
            "Test set: Average loss: 0.062, Accuracy: 98.36\n",
            "\n",
            "Epoch 4 : \n",
            "Train set: Average loss: 0.0141, Accuracy: 98.15\n",
            "\n",
            "Test set: Average loss: 0.046, Accuracy: 98.68\n",
            "\n",
            "Epoch 5 : \n",
            "Train set: Average loss: 0.0059, Accuracy: 98.42\n",
            "\n",
            "Test set: Average loss: 0.038, Accuracy: 98.78\n",
            "\n",
            "Epoch 6 : \n",
            "Train set: Average loss: 0.0570, Accuracy: 98.70\n",
            "\n",
            "Test set: Average loss: 0.030, Accuracy: 99.05\n",
            "\n",
            "Epoch 7 : \n",
            "Train set: Average loss: 0.0041, Accuracy: 98.83\n",
            "\n",
            "Test set: Average loss: 0.031, Accuracy: 99.11\n",
            "\n",
            "Epoch 8 : \n",
            "Train set: Average loss: 0.0038, Accuracy: 98.91\n",
            "\n",
            "Test set: Average loss: 0.024, Accuracy: 99.26\n",
            "\n",
            "Epoch 9 : \n",
            "Train set: Average loss: 0.0101, Accuracy: 98.99\n",
            "\n",
            "Test set: Average loss: 0.025, Accuracy: 99.16\n",
            "\n",
            "Epoch 10 : \n",
            "Train set: Average loss: 0.0190, Accuracy: 99.14\n",
            "\n",
            "Test set: Average loss: 0.027, Accuracy: 99.22\n",
            "\n",
            "Epoch 11 : \n",
            "Train set: Average loss: 0.0069, Accuracy: 99.18\n",
            "\n",
            "Test set: Average loss: 0.022, Accuracy: 99.34\n",
            "\n",
            "Epoch 12 : \n",
            "Train set: Average loss: 0.0063, Accuracy: 99.22\n",
            "\n",
            "Test set: Average loss: 0.021, Accuracy: 99.36\n",
            "\n",
            "Epoch 13 : \n",
            "Train set: Average loss: 0.0207, Accuracy: 99.27\n",
            "\n",
            "Test set: Average loss: 0.022, Accuracy: 99.33\n",
            "\n",
            "Epoch 14 : \n",
            "Train set: Average loss: 0.0420, Accuracy: 99.34\n",
            "\n",
            "Test set: Average loss: 0.018, Accuracy: 99.43\n",
            "\n",
            "Epoch 15 : \n",
            "Train set: Average loss: 0.0458, Accuracy: 99.42\n",
            "\n",
            "Test set: Average loss: 0.018, Accuracy: 99.38\n",
            "\n",
            "Epoch 16 : \n",
            "Train set: Average loss: 0.0443, Accuracy: 99.51\n",
            "\n",
            "Test set: Average loss: 0.021, Accuracy: 99.32\n",
            "\n",
            "Epoch 17 : \n",
            "Train set: Average loss: 0.0011, Accuracy: 99.53\n",
            "\n",
            "Test set: Average loss: 0.016, Accuracy: 99.48\n",
            "\n",
            "Epoch 18 : \n",
            "Train set: Average loss: 0.0061, Accuracy: 99.54\n",
            "\n",
            "Test set: Average loss: 0.017, Accuracy: 99.44\n",
            "\n",
            "Epoch 19 : \n",
            "Train set: Average loss: 0.0457, Accuracy: 99.61\n",
            "\n",
            "Test set: Average loss: 0.016, Accuracy: 99.46\n",
            "\n",
            "Epoch 20 : \n",
            "Train set: Average loss: 0.0044, Accuracy: 99.58\n",
            "\n",
            "Test set: Average loss: 0.016, Accuracy: 99.46\n"
          ],
          "name": "stdout"
        }
      ]
    },
    {
      "cell_type": "markdown",
      "metadata": {
        "id": "10oipdea-wg1"
      },
      "source": [
        "# Plotting the train and test loss across each epoch"
      ]
    },
    {
      "cell_type": "code",
      "metadata": {
        "colab": {
          "base_uri": "https://localhost:8080/",
          "height": 391
        },
        "id": "kDXBDZP1YmDd",
        "outputId": "e7b1c167-d200-4e91-8514-448618c53938"
      },
      "source": [
        "import matplotlib.pyplot as plt\n",
        "%matplotlib inline\n",
        "\n",
        "import seaborn as sns\n",
        "\n",
        "# Use plot styling from seaborn.\n",
        "sns.set(style='whitegrid')\n",
        "\n",
        "# Increase the plot size and font size.\n",
        "sns.set(font_scale=1)\n",
        "plt.rcParams[\"figure.figsize\"] = (25,6)\n",
        "\n",
        "# Plot the learning curve.\n",
        "fig, (ax1,ax2) = plt.subplots(1,2)\n",
        "ax1.plot(np.array(BN_train_loss), 'red', label=\"BN + L1 Training Loss\")\n",
        "ax1.plot(np.array(GN_train_loss), 'green', label=\"GN Training Loss\")\n",
        "ax1.plot(np.array(LN_train_loss), 'yellow', label=\"LN Training Loss\")\n",
        "ax1.plot(np.array(BN_test_loss), 'blue', label=\"BN + L1 Test Loss\")\n",
        "ax1.plot(np.array(GN_test_loss), 'black', label=\"GN Test Loss\")\n",
        "ax1.plot(np.array(LN_test_loss), 'purple', label=\"LN Test Loss\")\n",
        "\n",
        "# Label the plot.\n",
        "ax1.set_title(\"Training & Validation Loss\")\n",
        "ax1.set_xlabel(\"Epoch\")\n",
        "ax1.set_ylabel(\"Loss\")\n",
        "ax1.set_ylim(0,0.2)\n",
        "ax1.legend()\n",
        "\n",
        "ax2.plot(np.array(BN_train_acc), 'red', label=\"BN + L1 Training Accuracy\")\n",
        "ax2.plot(np.array(GN_train_acc), 'green', label=\"GN Training Accuracy\")\n",
        "ax2.plot(np.array(LN_train_acc), 'yellow', label=\"LN Training Accuracy\")\n",
        "ax2.plot(np.array(BN_test_acc), 'blue', label=\"BN + L1 Test Accuracy\")\n",
        "ax2.plot(np.array(GN_test_acc), 'black', label=\"GN Test Accuracy\")\n",
        "ax2.plot(np.array(LN_test_acc), 'purple', label=\"LN Test Accuracy\")\n",
        "\n",
        "# Label the plot.\n",
        "ax2.set_title(\"Training & Validation Accuracy\")\n",
        "ax2.set_xlabel(\"Epoch\")\n",
        "ax2.set_ylabel(\"Loss\")\n",
        "ax2.set_ylim(95,100)\n",
        "ax2.legend()\n",
        "\n",
        "plt.show()"
      ],
      "execution_count": 156,
      "outputs": [
        {
          "output_type": "display_data",
          "data": {
            "image/png": "[encoded data removed]",
            "text/plain": [
              "<Figure size 1800x432 with 2 Axes>"
            ]
          },
          "metadata": {
            "tags": []
          }
        }
      ]
    },
    {
      "cell_type": "markdown",
      "metadata": {
        "id": "WM4ekTr2mv5g"
      },
      "source": [
        "## Batch Normalization + L1 Norm Misclassified Images"
      ]
    },
    {
      "cell_type": "code",
      "metadata": {
        "id": "XU4u6t7C4O9F",
        "colab": {
          "base_uri": "https://localhost:8080/",
          "height": 324
        },
        "outputId": "f34c9ed0-a6c8-443c-af04-bd551a46f1cd"
      },
      "source": [
        "misclassification(BN_test_pred, BN_target_pred, BN_target_data, 'Batch Normalization + L1')"
      ],
      "execution_count": 167,
      "outputs": [
        {
          "output_type": "display_data",
          "data": {
            "image/png": "[encoded data removed]",
            "text/plain": [
              "<Figure size 720x360 with 10 Axes>"
            ]
          },
          "metadata": {
            "tags": []
          }
        }
      ]
    },
    {
      "cell_type": "markdown",
      "metadata": {
        "id": "UJqC87f-ngNO"
      },
      "source": [
        "## Group Normalization Misclassified Images"
      ]
    },
    {
      "cell_type": "code",
      "metadata": {
        "colab": {
          "base_uri": "https://localhost:8080/",
          "height": 324
        },
        "id": "ffx6WZTOnQWW",
        "outputId": "f6299f8e-acb9-4463-c33c-05609fdf4a20"
      },
      "source": [
        "misclassification(GN_test_pred, GN_target_pred, GN_target_data, 'Group Normalization')"
      ],
      "execution_count": 168,
      "outputs": [
        {
          "output_type": "display_data",
          "data": {
            "image/png": "[encoded data removed]",
            "text/plain": [
              "<Figure size 720x360 with 10 Axes>"
            ]
          },
          "metadata": {
            "tags": []
          }
        }
      ]
    },
    {
      "cell_type": "markdown",
      "metadata": {
        "id": "dXMR5yIjnlJe"
      },
      "source": [
        "## Layer Normalization Misclassified Images"
      ]
    },
    {
      "cell_type": "code",
      "metadata": {
        "colab": {
          "base_uri": "https://localhost:8080/",
          "height": 324
        },
        "id": "_QacCHNGnQRq",
        "outputId": "8ef76c36-d1c5-4254-abb3-eac54148bdc2"
      },
      "source": [
        "misclassification(LN_test_pred, LN_target_pred, LN_target_data, 'Layer Normalization')"
      ],
      "execution_count": 169,
      "outputs": [
        {
          "output_type": "display_data",
          "data": {
            "image/png": "[encoded data removed]",
            "text/plain": [
              "<Figure size 720x360 with 10 Axes>"
            ]
          },
          "metadata": {
            "tags": []
          }
        }
      ]
    },
    {
      "cell_type": "code",
      "metadata": {
        "id": "a8jnpBJw2PPD"
      },
      "source": [
        ""
      ],
      "execution_count": null,
      "outputs": []
    }
  ]
}