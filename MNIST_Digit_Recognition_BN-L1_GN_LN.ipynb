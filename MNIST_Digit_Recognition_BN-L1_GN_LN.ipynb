{
 "cells": [
  {
   "cell_type": "markdown",
   "metadata": {},
   "source": [
    "# MNIST Digit Recognition models with Normalization (BN+ L1, GN & LN)"
   ]
  },
  {
   "cell_type": "code",
   "execution_count": 1,
   "metadata": {
    "colab": {
     "base_uri": "https://localhost:8080/"
    },
    "id": "jqrNA_iP8PLr",
    "outputId": "13af731d-8aab-4628-9f2b-46ec8855af61"
   },
   "outputs": [],
   "source": [
    "from model import build_model\n",
    "from __future__ import print_function\n",
    "import torch\n",
    "import torch.nn as nn\n",
    "import torch.nn.functional as F\n",
    "import torch.optim as optim\n",
    "from torchvision import datasets, transforms\n",
    "from torch.autograd import Variable\n",
    "from torch.utils.data import DataLoader, Dataset\n",
    "from torchvision.utils import make_grid\n",
    "from torch.optim.lr_scheduler import StepLR,OneCycleLR\n",
    "import numpy as np\n",
    "import os\n",
    "\n",
    "#!pip install torchsummary\n",
    "from torchsummary import summary"
   ]
  },
  {
   "cell_type": "markdown",
   "metadata": {
    "id": "t6vQR4Yt_QFO"
   },
   "source": [
    "# Reading MNIST data"
   ]
  },
  {
   "cell_type": "code",
   "execution_count": 2,
   "metadata": {
    "id": "mJZ5aHywr7xO"
   },
   "outputs": [],
   "source": [
    "# Train Phase transformations\n",
    "train_transforms = transforms.Compose([\n",
    "                                       transforms.RandomRotation((-7.0, 7.0), fill=(1,)),                \n",
    "                                       transforms.ColorJitter(brightness=0.4, contrast=0.4, saturation=0.40, hue=0.1),\n",
    "                                       transforms.ToTensor(),\n",
    "                                       transforms.Normalize((0.1307,), (0.3081,))\n",
    "                                       ])\n",
    "\n",
    "# Test Phase transformations\n",
    "test_transforms = transforms.Compose([\n",
    "                                       transforms.ToTensor(),\n",
    "                                       transforms.Normalize((0.1307,), (0.3081,))\n",
    "                                       ])"
   ]
  },
  {
   "cell_type": "markdown",
   "metadata": {},
   "source": [
    "## Create Train and Test Datasets"
   ]
  },
  {
   "cell_type": "code",
   "execution_count": 3,
   "metadata": {
    "id": "EAUtmQAS94Ig"
   },
   "outputs": [],
   "source": [
    "train_data = datasets.MNIST('../data', train=True, download=True, transform=train_transforms)\n",
    "test_data = datasets.MNIST('../data', train=False, download=True,transform=test_transforms)"
   ]
  },
  {
   "cell_type": "code",
   "execution_count": 4,
   "metadata": {
    "colab": {
     "base_uri": "https://localhost:8080/"
    },
    "id": "NEs3ymph-H0i",
    "outputId": "56d29ec0-68ad-4400-81ef-5242947d5f41"
   },
   "outputs": [
    {
     "name": "stdout",
     "output_type": "stream",
     "text": [
      "Number of training samples: 60000\n",
      "Number of test samples: 10000\n"
     ]
    }
   ],
   "source": [
    "n_train = len(train_data)\n",
    "n_test = len(test_data)\n",
    "\n",
    "print('Number of training samples: {0}'.format(n_train))\n",
    "print('Number of test samples: {0}'.format(n_test))"
   ]
  },
  {
   "cell_type": "markdown",
   "metadata": {},
   "source": [
    "## If available, set the device to \"cuda\""
   ]
  },
  {
   "cell_type": "code",
   "execution_count": 5,
   "metadata": {},
   "outputs": [],
   "source": [
    "cuda = torch.cuda.is_available()\n",
    "device = torch.device(\"cuda\" if cuda else \"cpu\")"
   ]
  },
  {
   "cell_type": "markdown",
   "metadata": {
    "id": "Ige0pxq5_Fw7"
   },
   "source": [
    "# Model Architecture"
   ]
  },
  {
   "cell_type": "markdown",
   "metadata": {
    "id": "K6v6YXTi6gc2"
   },
   "source": [
    "## Build the model from model.py \"build_model\" function"
   ]
  },
  {
   "cell_type": "markdown",
   "metadata": {},
   "source": [
    "## Batch Normalization"
   ]
  },
  {
   "cell_type": "code",
   "execution_count": 6,
   "metadata": {
    "id": "rZqURC3aCFUf"
   },
   "outputs": [],
   "source": [
    "model_bn = build_model('BN')"
   ]
  },
  {
   "cell_type": "markdown",
   "metadata": {},
   "source": [
    "### Model Summary"
   ]
  },
  {
   "cell_type": "code",
   "execution_count": 7,
   "metadata": {
    "colab": {
     "base_uri": "https://localhost:8080/"
    },
    "id": "0lqi0uRhLsKq",
    "outputId": "8d0bd2da-d1a1-42d1-9f82-6165bda08575"
   },
   "outputs": [
    {
     "name": "stdout",
     "output_type": "stream",
     "text": [
      "----------------------------------------------------------------\n",
      "        Layer (type)               Output Shape         Param #\n",
      "================================================================\n",
      "            Conv2d-1            [-1, 8, 26, 26]              72\n",
      "              ReLU-2            [-1, 8, 26, 26]               0\n",
      "       BatchNorm2d-3            [-1, 8, 26, 26]              16\n",
      "            Conv2d-4           [-1, 16, 24, 24]           1,152\n",
      "              ReLU-5           [-1, 16, 24, 24]               0\n",
      "       BatchNorm2d-6           [-1, 16, 24, 24]              32\n",
      "            Conv2d-7            [-1, 8, 24, 24]             128\n",
      "         MaxPool2d-8            [-1, 8, 12, 12]               0\n",
      "            Conv2d-9           [-1, 12, 10, 10]             864\n",
      "             ReLU-10           [-1, 12, 10, 10]               0\n",
      "      BatchNorm2d-11           [-1, 12, 10, 10]              24\n",
      "           Conv2d-12             [-1, 16, 8, 8]           1,728\n",
      "             ReLU-13             [-1, 16, 8, 8]               0\n",
      "      BatchNorm2d-14             [-1, 16, 8, 8]              32\n",
      "          Dropout-15             [-1, 16, 8, 8]               0\n",
      "           Conv2d-16             [-1, 16, 6, 6]           2,304\n",
      "             ReLU-17             [-1, 16, 6, 6]               0\n",
      "      BatchNorm2d-18             [-1, 16, 6, 6]              32\n",
      "          Dropout-19             [-1, 16, 6, 6]               0\n",
      "           Conv2d-20             [-1, 16, 6, 6]           2,304\n",
      "             ReLU-21             [-1, 16, 6, 6]               0\n",
      "      BatchNorm2d-22             [-1, 16, 6, 6]              32\n",
      "        AvgPool2d-23             [-1, 16, 1, 1]               0\n",
      "           Conv2d-24             [-1, 10, 1, 1]             160\n",
      "================================================================\n",
      "Total params: 8,880\n",
      "Trainable params: 8,880\n",
      "Non-trainable params: 0\n",
      "----------------------------------------------------------------\n",
      "Input size (MB): 0.00\n",
      "Forward/backward pass size (MB): 0.47\n",
      "Params size (MB): 0.03\n",
      "Estimated Total Size (MB): 0.51\n",
      "----------------------------------------------------------------\n"
     ]
    }
   ],
   "source": [
    "model_bn = model_bn.to(device)\n",
    "summary(model_bn, input_size=(1, 28, 28))"
   ]
  },
  {
   "cell_type": "markdown",
   "metadata": {
    "id": "Rv4sT_U_6thw"
   },
   "source": [
    "## Group Normalization"
   ]
  },
  {
   "cell_type": "code",
   "execution_count": 8,
   "metadata": {
    "id": "iX9QVS8Y6tDb"
   },
   "outputs": [],
   "source": [
    "model_gn = build_model('GN')"
   ]
  },
  {
   "cell_type": "markdown",
   "metadata": {},
   "source": [
    "### Model Summary"
   ]
  },
  {
   "cell_type": "code",
   "execution_count": 9,
   "metadata": {
    "colab": {
     "base_uri": "https://localhost:8080/"
    },
    "id": "0g8MbEeTL3NL",
    "outputId": "80e46f6f-c99c-491c-c0fe-f107fc2d24c2"
   },
   "outputs": [
    {
     "name": "stdout",
     "output_type": "stream",
     "text": [
      "----------------------------------------------------------------\n",
      "        Layer (type)               Output Shape         Param #\n",
      "================================================================\n",
      "            Conv2d-1            [-1, 8, 26, 26]              72\n",
      "              ReLU-2            [-1, 8, 26, 26]               0\n",
      "         GroupNorm-3            [-1, 8, 26, 26]              16\n",
      "            Conv2d-4           [-1, 16, 24, 24]           1,152\n",
      "              ReLU-5           [-1, 16, 24, 24]               0\n",
      "         GroupNorm-6           [-1, 16, 24, 24]              32\n",
      "            Conv2d-7            [-1, 8, 24, 24]             128\n",
      "         MaxPool2d-8            [-1, 8, 12, 12]               0\n",
      "            Conv2d-9           [-1, 12, 10, 10]             864\n",
      "             ReLU-10           [-1, 12, 10, 10]               0\n",
      "        GroupNorm-11           [-1, 12, 10, 10]              24\n",
      "           Conv2d-12             [-1, 16, 8, 8]           1,728\n",
      "             ReLU-13             [-1, 16, 8, 8]               0\n",
      "        GroupNorm-14             [-1, 16, 8, 8]              32\n",
      "          Dropout-15             [-1, 16, 8, 8]               0\n",
      "           Conv2d-16             [-1, 16, 6, 6]           2,304\n",
      "             ReLU-17             [-1, 16, 6, 6]               0\n",
      "        GroupNorm-18             [-1, 16, 6, 6]              32\n",
      "          Dropout-19             [-1, 16, 6, 6]               0\n",
      "           Conv2d-20             [-1, 16, 6, 6]           2,304\n",
      "             ReLU-21             [-1, 16, 6, 6]               0\n",
      "        GroupNorm-22             [-1, 16, 6, 6]              32\n",
      "        AvgPool2d-23             [-1, 16, 1, 1]               0\n",
      "           Conv2d-24             [-1, 10, 1, 1]             160\n",
      "================================================================\n",
      "Total params: 8,880\n",
      "Trainable params: 8,880\n",
      "Non-trainable params: 0\n",
      "----------------------------------------------------------------\n",
      "Input size (MB): 0.00\n",
      "Forward/backward pass size (MB): 0.47\n",
      "Params size (MB): 0.03\n",
      "Estimated Total Size (MB): 0.51\n",
      "----------------------------------------------------------------\n"
     ]
    }
   ],
   "source": [
    "model_gn = model_gn.to(device)\n",
    "summary(model_gn, input_size=(1, 28, 28))"
   ]
  },
  {
   "cell_type": "markdown",
   "metadata": {
    "id": "cA1jYw_6-d8R"
   },
   "source": [
    "## Layer Normalization"
   ]
  },
  {
   "cell_type": "code",
   "execution_count": 10,
   "metadata": {
    "id": "XkbdPbtP-gip"
   },
   "outputs": [],
   "source": [
    "model_ln = build_model('LN')"
   ]
  },
  {
   "cell_type": "markdown",
   "metadata": {
    "id": "7yYRcxfL-FLD"
   },
   "source": [
    "### Model Summary"
   ]
  },
  {
   "cell_type": "code",
   "execution_count": 11,
   "metadata": {
    "colab": {
     "base_uri": "https://localhost:8080/"
    },
    "id": "rcu4v1dcCKHu",
    "outputId": "3550f26b-3180-4f37-b6cd-059dc8021360"
   },
   "outputs": [
    {
     "name": "stdout",
     "output_type": "stream",
     "text": [
      "----------------------------------------------------------------\n",
      "        Layer (type)               Output Shape         Param #\n",
      "================================================================\n",
      "            Conv2d-1            [-1, 8, 26, 26]              72\n",
      "              ReLU-2            [-1, 8, 26, 26]               0\n",
      "         GroupNorm-3            [-1, 8, 26, 26]              16\n",
      "            Conv2d-4           [-1, 16, 24, 24]           1,152\n",
      "              ReLU-5           [-1, 16, 24, 24]               0\n",
      "         GroupNorm-6           [-1, 16, 24, 24]              32\n",
      "            Conv2d-7            [-1, 8, 24, 24]             128\n",
      "         MaxPool2d-8            [-1, 8, 12, 12]               0\n",
      "            Conv2d-9           [-1, 12, 10, 10]             864\n",
      "             ReLU-10           [-1, 12, 10, 10]               0\n",
      "        GroupNorm-11           [-1, 12, 10, 10]              24\n",
      "           Conv2d-12             [-1, 16, 8, 8]           1,728\n",
      "             ReLU-13             [-1, 16, 8, 8]               0\n",
      "        GroupNorm-14             [-1, 16, 8, 8]              32\n",
      "          Dropout-15             [-1, 16, 8, 8]               0\n",
      "           Conv2d-16             [-1, 16, 6, 6]           2,304\n",
      "             ReLU-17             [-1, 16, 6, 6]               0\n",
      "        GroupNorm-18             [-1, 16, 6, 6]              32\n",
      "          Dropout-19             [-1, 16, 6, 6]               0\n",
      "           Conv2d-20             [-1, 16, 6, 6]           2,304\n",
      "             ReLU-21             [-1, 16, 6, 6]               0\n",
      "        GroupNorm-22             [-1, 16, 6, 6]              32\n",
      "        AvgPool2d-23             [-1, 16, 1, 1]               0\n",
      "           Conv2d-24             [-1, 10, 1, 1]             160\n",
      "================================================================\n",
      "Total params: 8,880\n",
      "Trainable params: 8,880\n",
      "Non-trainable params: 0\n",
      "----------------------------------------------------------------\n",
      "Input size (MB): 0.00\n",
      "Forward/backward pass size (MB): 0.47\n",
      "Params size (MB): 0.03\n",
      "Estimated Total Size (MB): 0.51\n",
      "----------------------------------------------------------------\n"
     ]
    }
   ],
   "source": [
    "model_ln = model_ln.to(device)\n",
    "summary(model_ln, input_size=(1, 28, 28))"
   ]
  },
  {
   "cell_type": "markdown",
   "metadata": {},
   "source": [
    "## Function to set seed for all random value generation"
   ]
  },
  {
   "cell_type": "code",
   "execution_count": 12,
   "metadata": {
    "id": "UlRA6GNm6Aia"
   },
   "outputs": [],
   "source": [
    "def seed_everything(seed):\n",
    "    os.environ['PYTHONHASHSEED'] = str(seed)\n",
    "    np.random.seed(seed)\n",
    "    torch.manual_seed(seed)\n",
    "    torch.cuda.manual_seed(seed)\n",
    "    torch.backends.cudnn.deterministic = True\n",
    "    torch.backends.cudnn.benchmark = True"
   ]
  },
  {
   "cell_type": "markdown",
   "metadata": {
    "id": "1PAL1z7a-ZiO"
   },
   "source": [
    "## Train Function"
   ]
  },
  {
   "cell_type": "code",
   "execution_count": 13,
   "metadata": {
    "id": "W84d88IDYI2E"
   },
   "outputs": [],
   "source": [
    "def train(model, device, train_loader, optimizer, scheduler, epoch, L1, l1_factor):\n",
    "    model.train()\n",
    "    epoch_loss = 0\n",
    "    correct = 0\n",
    "\n",
    "    for batch_idx, (data, target) in enumerate(train_loader):\n",
    "        data, target = data.to(device), target.to(device)\n",
    "        optimizer.zero_grad()\n",
    "        output = model(data)\n",
    "        loss = F.nll_loss(output, target)\n",
    "\n",
    "        if L1:\n",
    "          L1_loss = nn.L1Loss(size_average=None, reduce=None, reduction='mean')\n",
    "          reg_loss = 0 \n",
    "          for param in model.parameters():\n",
    "            zero_vector = torch.rand_like(param) * 0\n",
    "            reg_loss += L1_loss(param,zero_vector)\n",
    "          loss += l1_factor * reg_loss\n",
    "\n",
    "        epoch_loss += loss.item()\n",
    "        loss.backward()\n",
    "        optimizer.step()\n",
    "        scheduler.step()\n",
    "        pred = output.argmax(dim=1, keepdim=True)  # get the index of the max log-probability\n",
    "        correct += pred.eq(target.view_as(pred)).sum().item()\n",
    "\n",
    "    print(f'Train set: Average loss: {loss.item():.4f}, Accuracy: {100. * correct/len(train_loader.dataset):.2f}')\n",
    "    train_loss = epoch_loss / len(train_loader)\n",
    "    train_acc=100.*correct/len(train_loader.dataset)\n",
    "    return train_loss, train_acc"
   ]
  },
  {
   "cell_type": "markdown",
   "metadata": {
    "id": "iutOWfTJ-eHu"
   },
   "source": [
    "## Test/Validation Function"
   ]
  },
  {
   "cell_type": "code",
   "execution_count": 14,
   "metadata": {
    "id": "zxKGXJsJoddU"
   },
   "outputs": [],
   "source": [
    "def test(model, device, test_loader):\n",
    "    model.eval()\n",
    "    test_loss = 0\n",
    "    correct = 0\n",
    "    test_pred = torch.LongTensor()\n",
    "    target_pred = torch.LongTensor()\n",
    "    target_data = torch.LongTensor()\n",
    "\n",
    "    with torch.no_grad():\n",
    "        for data, target in test_loader:\n",
    "            data, target = data.to(device), target.to(device)\n",
    "            output = model(data)\n",
    "            test_loss += F.nll_loss(output, target, reduction='sum').item()  # sum up batch loss\n",
    "            pred = output.argmax(dim=1, keepdim=True)  # get the index of the max log-probability\n",
    "            pred_cpu = output.cpu().data.max(dim=1, keepdim=True)[1]\n",
    "            correct += pred.eq(target.view_as(pred)).sum().item()\n",
    "            test_pred = torch.cat((test_pred, pred_cpu), dim=0)\n",
    "            target_pred = torch.cat((target_pred, target.cpu()), dim=0)\n",
    "            target_data = torch.cat((target_data, data.cpu()), dim=0)\n",
    "\n",
    "\n",
    "    test_loss /= len(test_loader.dataset)\n",
    "    test_acc = 100.*correct/len(test_loader.dataset)\n",
    "    print(f'\\nTest set: Average loss: {test_loss:.3f}, Accuracy: {100. * correct/len(test_loader.dataset):.2f}')\n",
    "    return test_loss, test_acc, test_pred, target_pred, target_data"
   ]
  },
  {
   "cell_type": "markdown",
   "metadata": {
    "id": "Nu18tbPynB-E"
   },
   "source": [
    "## Function for plotting misclassified images"
   ]
  },
  {
   "cell_type": "code",
   "execution_count": 15,
   "metadata": {
    "id": "UPiGoutoZ3D3"
   },
   "outputs": [],
   "source": [
    "def misclassification(predictions, targets, data, xtitle):\n",
    "  pred = predictions.view(-1)\n",
    "  target = targets.view(-1)\n",
    "\n",
    "  index = 0\n",
    "  misclassified_image = []\n",
    "\n",
    "  for label, predict in zip(target, pred):\n",
    "    if label != predict:\n",
    "      misclassified_image.append(index)\n",
    "    index += 1\n",
    "\n",
    "  plt.figure(figsize=(10,5))\n",
    "  plt.suptitle(xtitle + ' - Misclassified Images');\n",
    "\n",
    "  for plot_index, bad_index in enumerate(misclassified_image[0:10]):\n",
    "    p = plt.subplot(2, 5, plot_index+1)\n",
    "    p.imshow(data[bad_index].reshape(28,28), cmap='gray')\n",
    "    p.axis('off')\n",
    "    p.set_title(f'Pred:{pred[bad_index]}, Actual:{target[bad_index]}')"
   ]
  },
  {
   "cell_type": "markdown",
   "metadata": {
    "id": "EExDDf3f-rST"
   },
   "source": [
    "## Main method for training and validating the model"
   ]
  },
  {
   "cell_type": "code",
   "execution_count": 16,
   "metadata": {
    "id": "YdkLxcqcYOHu"
   },
   "outputs": [],
   "source": [
    "def main(EPOCH, model, device, train_loader, test_loader, optimizer, scheduler, L1, l1_factor):\n",
    "  train_loss_values = []\n",
    "  test_loss_values = []\n",
    "  train_acc_values = []\n",
    "  test_acc_values = []\n",
    "\n",
    "  for epoch in range(1, EPOCH + 1):\n",
    "      print('\\nEpoch {} : '.format(epoch))\n",
    "      # train the model\n",
    "      train_loss, train_acc = train(model, device, train_loader, optimizer, scheduler, epoch, L1, l1_factor)\n",
    "      test_loss, test_acc, test_pred, target_pred, target_data = test(model, device, test_loader)\n",
    "\n",
    "      train_loss_values.append(train_loss)\n",
    "      test_loss_values.append(test_loss)\n",
    "\n",
    "      train_acc_values.append(train_acc)\n",
    "      test_acc_values.append(test_acc)\n",
    "\n",
    "  return train_loss_values, test_loss_values, train_acc_values, test_acc_values, test_pred, target_pred, target_data"
   ]
  },
  {
   "cell_type": "markdown",
   "metadata": {},
   "source": [
    "# Invoke the main method with all training parameters"
   ]
  },
  {
   "cell_type": "code",
   "execution_count": 17,
   "metadata": {
    "colab": {
     "base_uri": "https://localhost:8080/"
    },
    "id": "y5RICcjkTa2c",
    "outputId": "742ab4d2-01ba-425a-8fed-f562081c5e2e"
   },
   "outputs": [
    {
     "name": "stdout",
     "output_type": "stream",
     "text": [
      "------------------------------------------\n",
      "Batch Normalization with L1 regularization\n",
      "------------------------------------------\n",
      "\n",
      "Epoch 1 : \n",
      "Train set: Average loss: 0.2748, Accuracy: 76.42\n",
      "\n",
      "Test set: Average loss: 0.148, Accuracy: 97.17\n",
      "\n",
      "Epoch 2 : \n",
      "Train set: Average loss: 0.0699, Accuracy: 96.55\n",
      "\n",
      "Test set: Average loss: 0.070, Accuracy: 98.15\n",
      "\n",
      "Epoch 3 : \n",
      "Train set: Average loss: 0.1106, Accuracy: 97.66\n",
      "\n",
      "Test set: Average loss: 0.042, Accuracy: 98.77\n",
      "\n",
      "Epoch 4 : \n",
      "Train set: Average loss: 0.0923, Accuracy: 98.09\n",
      "\n",
      "Test set: Average loss: 0.042, Accuracy: 98.73\n",
      "\n",
      "Epoch 5 : \n",
      "Train set: Average loss: 0.0054, Accuracy: 98.42\n",
      "\n",
      "Test set: Average loss: 0.030, Accuracy: 99.09\n",
      "\n",
      "Epoch 6 : \n",
      "Train set: Average loss: 0.1970, Accuracy: 98.64\n",
      "\n",
      "Test set: Average loss: 0.025, Accuracy: 99.09\n",
      "\n",
      "Epoch 7 : \n",
      "Train set: Average loss: 0.0123, Accuracy: 98.74\n",
      "\n",
      "Test set: Average loss: 0.028, Accuracy: 99.15\n",
      "\n",
      "Epoch 8 : \n",
      "Train set: Average loss: 0.0133, Accuracy: 98.86\n",
      "\n",
      "Test set: Average loss: 0.029, Accuracy: 99.11\n",
      "\n",
      "Epoch 9 : \n",
      "Train set: Average loss: 0.0441, Accuracy: 98.88\n",
      "\n",
      "Test set: Average loss: 0.022, Accuracy: 99.26\n",
      "\n",
      "Epoch 10 : \n",
      "Train set: Average loss: 0.0132, Accuracy: 98.95\n",
      "\n",
      "Test set: Average loss: 0.025, Accuracy: 99.31\n",
      "\n",
      "Epoch 11 : \n",
      "Train set: Average loss: 0.1070, Accuracy: 99.01\n",
      "\n",
      "Test set: Average loss: 0.022, Accuracy: 99.28\n",
      "\n",
      "Epoch 12 : \n",
      "Train set: Average loss: 0.1052, Accuracy: 99.07\n",
      "\n",
      "Test set: Average loss: 0.024, Accuracy: 99.25\n",
      "\n",
      "Epoch 13 : \n",
      "Train set: Average loss: 0.0320, Accuracy: 99.05\n",
      "\n",
      "Test set: Average loss: 0.020, Accuracy: 99.37\n",
      "\n",
      "Epoch 14 : \n",
      "Train set: Average loss: 0.0151, Accuracy: 99.19\n",
      "\n",
      "Test set: Average loss: 0.019, Accuracy: 99.40\n",
      "\n",
      "Epoch 15 : \n",
      "Train set: Average loss: 0.0030, Accuracy: 99.23\n",
      "\n",
      "Test set: Average loss: 0.019, Accuracy: 99.32\n",
      "\n",
      "Epoch 16 : \n",
      "Train set: Average loss: 0.1759, Accuracy: 99.29\n",
      "\n",
      "Test set: Average loss: 0.019, Accuracy: 99.36\n",
      "\n",
      "Epoch 17 : \n",
      "Train set: Average loss: 0.0052, Accuracy: 99.33\n",
      "\n",
      "Test set: Average loss: 0.018, Accuracy: 99.45\n",
      "\n",
      "Epoch 18 : \n",
      "Train set: Average loss: 0.0074, Accuracy: 99.37\n",
      "\n",
      "Test set: Average loss: 0.017, Accuracy: 99.49\n",
      "\n",
      "Epoch 19 : \n",
      "Train set: Average loss: 0.0147, Accuracy: 99.43\n",
      "\n",
      "Test set: Average loss: 0.016, Accuracy: 99.50\n",
      "\n",
      "Epoch 20 : \n",
      "Train set: Average loss: 0.0085, Accuracy: 99.46\n",
      "\n",
      "Test set: Average loss: 0.016, Accuracy: 99.47\n",
      "------------------------------------------\n",
      "Group Normalization\n",
      "------------------------------------------\n",
      "\n",
      "Epoch 1 : \n",
      "Train set: Average loss: 0.3363, Accuracy: 71.38\n",
      "\n",
      "Test set: Average loss: 0.215, Accuracy: 95.67\n",
      "\n",
      "Epoch 2 : \n",
      "Train set: Average loss: 0.0646, Accuracy: 96.22\n",
      "\n",
      "Test set: Average loss: 0.075, Accuracy: 97.94\n",
      "\n",
      "Epoch 3 : \n",
      "Train set: Average loss: 0.0198, Accuracy: 97.51\n",
      "\n",
      "Test set: Average loss: 0.047, Accuracy: 98.56\n",
      "\n",
      "Epoch 4 : \n",
      "Train set: Average loss: 0.0443, Accuracy: 98.05\n",
      "\n",
      "Test set: Average loss: 0.040, Accuracy: 98.83\n",
      "\n",
      "Epoch 5 : \n",
      "Train set: Average loss: 0.1238, Accuracy: 98.26\n",
      "\n",
      "Test set: Average loss: 0.034, Accuracy: 98.95\n",
      "\n",
      "Epoch 6 : \n",
      "Train set: Average loss: 0.0167, Accuracy: 98.59\n",
      "\n",
      "Test set: Average loss: 0.026, Accuracy: 99.22\n",
      "\n",
      "Epoch 7 : \n",
      "Train set: Average loss: 0.0367, Accuracy: 98.75\n",
      "\n",
      "Test set: Average loss: 0.029, Accuracy: 99.18\n",
      "\n",
      "Epoch 8 : \n",
      "Train set: Average loss: 0.0134, Accuracy: 98.83\n",
      "\n",
      "Test set: Average loss: 0.029, Accuracy: 99.15\n",
      "\n",
      "Epoch 9 : \n",
      "Train set: Average loss: 0.0161, Accuracy: 98.95\n",
      "\n",
      "Test set: Average loss: 0.023, Accuracy: 99.31\n",
      "\n",
      "Epoch 10 : \n",
      "Train set: Average loss: 0.0511, Accuracy: 99.03\n",
      "\n",
      "Test set: Average loss: 0.023, Accuracy: 99.24\n",
      "\n",
      "Epoch 11 : \n",
      "Train set: Average loss: 0.1394, Accuracy: 99.13\n",
      "\n",
      "Test set: Average loss: 0.021, Accuracy: 99.34\n",
      "\n",
      "Epoch 12 : \n",
      "Train set: Average loss: 0.0047, Accuracy: 99.18\n",
      "\n",
      "Test set: Average loss: 0.020, Accuracy: 99.46\n",
      "\n",
      "Epoch 13 : \n",
      "Train set: Average loss: 0.0007, Accuracy: 99.25\n",
      "\n",
      "Test set: Average loss: 0.019, Accuracy: 99.33\n",
      "\n",
      "Epoch 14 : \n",
      "Train set: Average loss: 0.1390, Accuracy: 99.34\n",
      "\n",
      "Test set: Average loss: 0.019, Accuracy: 99.43\n",
      "\n",
      "Epoch 15 : \n",
      "Train set: Average loss: 0.0597, Accuracy: 99.32\n",
      "\n",
      "Test set: Average loss: 0.021, Accuracy: 99.35\n",
      "\n",
      "Epoch 16 : \n",
      "Train set: Average loss: 0.0043, Accuracy: 99.39\n",
      "\n",
      "Test set: Average loss: 0.016, Accuracy: 99.54\n",
      "\n",
      "Epoch 17 : \n",
      "Train set: Average loss: 0.0696, Accuracy: 99.48\n",
      "\n",
      "Test set: Average loss: 0.015, Accuracy: 99.49\n",
      "\n",
      "Epoch 18 : \n",
      "Train set: Average loss: 0.0023, Accuracy: 99.52\n",
      "\n",
      "Test set: Average loss: 0.014, Accuracy: 99.53\n",
      "\n",
      "Epoch 19 : \n",
      "Train set: Average loss: 0.0035, Accuracy: 99.54\n",
      "\n",
      "Test set: Average loss: 0.014, Accuracy: 99.57\n",
      "\n",
      "Epoch 20 : \n",
      "Train set: Average loss: 0.0274, Accuracy: 99.60\n",
      "\n",
      "Test set: Average loss: 0.014, Accuracy: 99.54\n",
      "------------------------------------------\n",
      "Layer Normalization\n",
      "------------------------------------------\n",
      "\n",
      "Epoch 1 : \n",
      "Train set: Average loss: 0.1288, Accuracy: 78.42\n",
      "\n",
      "Test set: Average loss: 0.193, Accuracy: 96.30\n",
      "\n",
      "Epoch 2 : \n",
      "Train set: Average loss: 0.2052, Accuracy: 96.18\n",
      "\n",
      "Test set: Average loss: 0.079, Accuracy: 97.81\n",
      "\n",
      "Epoch 3 : \n",
      "Train set: Average loss: 0.0116, Accuracy: 97.61\n",
      "\n",
      "Test set: Average loss: 0.065, Accuracy: 97.96\n",
      "\n",
      "Epoch 4 : \n",
      "Train set: Average loss: 0.0066, Accuracy: 98.11\n",
      "\n",
      "Test set: Average loss: 0.039, Accuracy: 98.84\n",
      "\n",
      "Epoch 5 : \n",
      "Train set: Average loss: 0.0034, Accuracy: 98.47\n",
      "\n",
      "Test set: Average loss: 0.032, Accuracy: 99.02\n",
      "\n",
      "Epoch 6 : \n",
      "Train set: Average loss: 0.0874, Accuracy: 98.68\n",
      "\n",
      "Test set: Average loss: 0.030, Accuracy: 99.07\n",
      "\n",
      "Epoch 7 : \n",
      "Train set: Average loss: 0.0018, Accuracy: 98.80\n",
      "\n",
      "Test set: Average loss: 0.034, Accuracy: 99.01\n",
      "\n",
      "Epoch 8 : \n",
      "Train set: Average loss: 0.0151, Accuracy: 98.89\n",
      "\n",
      "Test set: Average loss: 0.025, Accuracy: 99.26\n",
      "\n",
      "Epoch 9 : \n",
      "Train set: Average loss: 0.0030, Accuracy: 99.01\n",
      "\n",
      "Test set: Average loss: 0.030, Accuracy: 99.01\n",
      "\n",
      "Epoch 10 : \n",
      "Train set: Average loss: 0.0231, Accuracy: 99.01\n",
      "\n",
      "Test set: Average loss: 0.026, Accuracy: 99.20\n",
      "\n",
      "Epoch 11 : \n",
      "Train set: Average loss: 0.0084, Accuracy: 99.18\n",
      "\n",
      "Test set: Average loss: 0.024, Accuracy: 99.20\n",
      "\n",
      "Epoch 12 : \n",
      "Train set: Average loss: 0.0018, Accuracy: 99.18\n",
      "\n",
      "Test set: Average loss: 0.021, Accuracy: 99.34\n",
      "\n",
      "Epoch 13 : \n",
      "Train set: Average loss: 0.0070, Accuracy: 99.24\n",
      "\n",
      "Test set: Average loss: 0.022, Accuracy: 99.24\n",
      "\n",
      "Epoch 14 : \n",
      "Train set: Average loss: 0.0247, Accuracy: 99.30\n",
      "\n",
      "Test set: Average loss: 0.018, Accuracy: 99.42\n",
      "\n",
      "Epoch 15 : \n",
      "Train set: Average loss: 0.0283, Accuracy: 99.37\n",
      "\n",
      "Test set: Average loss: 0.020, Accuracy: 99.42\n",
      "\n",
      "Epoch 16 : \n",
      "Train set: Average loss: 0.0136, Accuracy: 99.44\n",
      "\n",
      "Test set: Average loss: 0.021, Accuracy: 99.36\n",
      "\n",
      "Epoch 17 : \n",
      "Train set: Average loss: 0.0020, Accuracy: 99.47\n",
      "\n",
      "Test set: Average loss: 0.018, Accuracy: 99.43\n",
      "\n",
      "Epoch 18 : \n",
      "Train set: Average loss: 0.0033, Accuracy: 99.54\n",
      "\n",
      "Test set: Average loss: 0.018, Accuracy: 99.47\n",
      "\n",
      "Epoch 19 : \n",
      "Train set: Average loss: 0.0101, Accuracy: 99.58\n",
      "\n",
      "Test set: Average loss: 0.018, Accuracy: 99.46\n",
      "\n",
      "Epoch 20 : \n",
      "Train set: Average loss: 0.0010, Accuracy: 99.61\n",
      "\n",
      "Test set: Average loss: 0.018, Accuracy: 99.48\n"
     ]
    }
   ],
   "source": [
    "if __name__=='__main__':\n",
    "\n",
    "  EPOCH = 20\n",
    "  batch_size = 64\n",
    "  l1_factor = 0.0001\n",
    "\n",
    "  cuda = torch.cuda.is_available()\n",
    "  device = torch.device(\"cuda\" if cuda else \"cpu\")\n",
    "\n",
    "  seed_everything(1)\n",
    "\n",
    "  kwargs = {'num_workers': 1, 'pin_memory': True} if cuda else {}\n",
    "  train_loader = torch.utils.data.DataLoader(train_data, batch_size=batch_size, shuffle=True, **kwargs)\n",
    "  test_loader = torch.utils.data.DataLoader(test_data, batch_size=batch_size, shuffle=True, **kwargs)\n",
    "  \n",
    "  model = build_model('BN').to(device)\n",
    "  optimizer = optim.SGD(model.parameters(), lr=0.02, momentum=0.8)\n",
    "  scheduler = OneCycleLR(optimizer, max_lr=0.015,epochs=20,steps_per_epoch=len(train_loader))\n",
    "  \n",
    "  print(\"------------------------------------------\")\n",
    "  print(\"Batch Normalization with L1 regularization\")\n",
    "  print(\"------------------------------------------\")\n",
    "  BN_train_loss, BN_test_loss, BN_train_acc, BN_test_acc, BN_test_pred, BN_target_pred, BN_target_data = main(EPOCH, model, device, train_loader, test_loader, optimizer, scheduler, True, l1_factor)\n",
    "\n",
    "  model = build_model('GN').to(device)\n",
    "  optimizer = optim.SGD(model.parameters(), lr=0.02, momentum=0.8)\n",
    "  scheduler = OneCycleLR(optimizer, max_lr=0.015,epochs=20,steps_per_epoch=len(train_loader))\n",
    "\n",
    "  print(\"------------------------------------------\")\n",
    "  print(\"Group Normalization\")\n",
    "  print(\"------------------------------------------\")\n",
    "  GN_train_loss, GN_test_loss, GN_train_acc, GN_test_acc, GN_test_pred, GN_target_pred, GN_target_data = main(EPOCH, model, device, train_loader, test_loader, optimizer, scheduler, False, l1_factor)\n",
    "\n",
    "  model = build_model('LN').to(device)\n",
    "  optimizer = optim.SGD(model.parameters(), lr=0.02, momentum=0.8)\n",
    "  scheduler = OneCycleLR(optimizer, max_lr=0.015,epochs=20,steps_per_epoch=len(train_loader))\n",
    "\n",
    "  print(\"------------------------------------------\")\n",
    "  print(\"Layer Normalization\")\n",
    "  print(\"------------------------------------------\")\n",
    "  LN_train_loss, LN_test_loss, LN_train_acc, LN_test_acc, LN_test_pred, LN_target_pred, LN_target_data = main(EPOCH, model, device, train_loader, test_loader, optimizer, scheduler, False, l1_factor)\n"
   ]
  },
  {
   "cell_type": "markdown",
   "metadata": {
    "id": "10oipdea-wg1"
   },
   "source": [
    "# Plotting the train and test accuracy & loss across each epoch"
   ]
  },
  {
   "cell_type": "code",
   "execution_count": 18,
   "metadata": {
    "colab": {
     "base_uri": "https://localhost:8080/",
     "height": 391
    },
    "id": "kDXBDZP1YmDd",
    "outputId": "e7b1c167-d200-4e91-8514-448618c53938",
    "scrolled": true
   },
   "outputs": [
    {
     "data": {
      "image/png": "[encoded data removed]",
      "text/plain": [
       "<Figure size 1800x432 with 2 Axes>"
      ]
     },
     "metadata": {},
     "output_type": "display_data"
    }
   ],
   "source": [
    "import matplotlib.pyplot as plt\n",
    "%matplotlib inline\n",
    "\n",
    "import seaborn as sns\n",
    "\n",
    "# Use plot styling from seaborn.\n",
    "sns.set(style='whitegrid')\n",
    "\n",
    "# Increase the plot size and font size.\n",
    "sns.set(font_scale=1)\n",
    "plt.rcParams[\"figure.figsize\"] = (25,6)\n",
    "\n",
    "# Plot the learning curve.\n",
    "fig, (ax1,ax2) = plt.subplots(1,2)\n",
    "ax1.plot(np.array(BN_train_loss), 'red', label=\"BN + L1 Training Loss\")\n",
    "ax1.plot(np.array(GN_train_loss), 'green', label=\"GN Training Loss\")\n",
    "ax1.plot(np.array(LN_train_loss), 'yellow', label=\"LN Training Loss\")\n",
    "ax1.plot(np.array(BN_test_loss), 'blue', label=\"BN + L1 Test Loss\")\n",
    "ax1.plot(np.array(GN_test_loss), 'black', label=\"GN Test Loss\")\n",
    "ax1.plot(np.array(LN_test_loss), 'purple', label=\"LN Test Loss\")\n",
    "\n",
    "# Label the plot.\n",
    "ax1.set_title(\"Training & Validation Loss\")\n",
    "ax1.set_xlabel(\"Epoch\")\n",
    "ax1.set_ylabel(\"Loss\")\n",
    "ax1.set_ylim(0,0.2)\n",
    "ax1.legend()\n",
    "\n",
    "ax2.plot(np.array(BN_train_acc), 'red', label=\"BN + L1 Training Accuracy\")\n",
    "ax2.plot(np.array(GN_train_acc), 'green', label=\"GN Training Accuracy\")\n",
    "ax2.plot(np.array(LN_train_acc), 'yellow', label=\"LN Training Accuracy\")\n",
    "ax2.plot(np.array(BN_test_acc), 'blue', label=\"BN + L1 Test Accuracy\")\n",
    "ax2.plot(np.array(GN_test_acc), 'black', label=\"GN Test Accuracy\")\n",
    "ax2.plot(np.array(LN_test_acc), 'purple', label=\"LN Test Accuracy\")\n",
    "\n",
    "# Label the plot.\n",
    "ax2.set_title(\"Training & Validation Accuracy\")\n",
    "ax2.set_xlabel(\"Epoch\")\n",
    "ax2.set_ylabel(\"Loss\")\n",
    "ax2.set_ylim(95,100)\n",
    "ax2.legend()\n",
    "\n",
    "plt.show()"
   ]
  },
  {
   "cell_type": "markdown",
   "metadata": {},
   "source": [
    "# Identify and plot 10 misclassified images from test data for all 3 models"
   ]
  },
  {
   "cell_type": "markdown",
   "metadata": {
    "id": "WM4ekTr2mv5g"
   },
   "source": [
    "## Batch Normalization + L1 Norm Misclassified Images"
   ]
  },
  {
   "cell_type": "code",
   "execution_count": 19,
   "metadata": {
    "colab": {
     "base_uri": "https://localhost:8080/",
     "height": 324
    },
    "id": "XU4u6t7C4O9F",
    "outputId": "f34c9ed0-a6c8-443c-af04-bd551a46f1cd"
   },
   "outputs": [
    {
     "data": {
      "image/png": "[encoded data removed]",
      "text/plain": [
       "<Figure size 720x360 with 10 Axes>"
      ]
     },
     "metadata": {},
     "output_type": "display_data"
    }
   ],
   "source": [
    "misclassification(BN_test_pred, BN_target_pred, BN_target_data, 'Batch Normalization + L1')"
   ]
  },
  {
   "cell_type": "markdown",
   "metadata": {
    "id": "UJqC87f-ngNO"
   },
   "source": [
    "## Group Normalization Misclassified Images"
   ]
  },
  {
   "cell_type": "code",
   "execution_count": 20,
   "metadata": {
    "colab": {
     "base_uri": "https://localhost:8080/",
     "height": 324
    },
    "id": "ffx6WZTOnQWW",
    "outputId": "f6299f8e-acb9-4463-c33c-05609fdf4a20"
   },
   "outputs": [
    {
     "data": {
      "image/png": "[encoded data removed]",
      "text/plain": [
       "<Figure size 720x360 with 10 Axes>"
      ]
     },
     "metadata": {},
     "output_type": "display_data"
    }
   ],
   "source": [
    "misclassification(GN_test_pred, GN_target_pred, GN_target_data, 'Group Normalization')"
   ]
  },
  {
   "cell_type": "markdown",
   "metadata": {
    "id": "dXMR5yIjnlJe"
   },
   "source": [
    "## Layer Normalization Misclassified Images"
   ]
  },
  {
   "cell_type": "code",
   "execution_count": 21,
   "metadata": {
    "colab": {
     "base_uri": "https://localhost:8080/",
     "height": 324
    },
    "id": "_QacCHNGnQRq",
    "outputId": "8ef76c36-d1c5-4254-abb3-eac54148bdc2"
   },
   "outputs": [
    {
     "data": {
      "image/png": "[encoded data removed]",
      "text/plain": [
       "<Figure size 720x360 with 10 Axes>"
      ]
     },
     "metadata": {},
     "output_type": "display_data"
    }
   ],
   "source": [
    "misclassification(LN_test_pred, LN_target_pred, LN_target_data, 'Layer Normalization')"
   ]
  },
  {
   "cell_type": "code",
   "execution_count": null,
   "metadata": {},
   "outputs": [],
   "source": []
  }
 ],
 "metadata": {
  "accelerator": "GPU",
  "colab": {
   "authorship_tag": "ABX9TyOhFOuLu/Q1V6RTtgOasj1V",
   "collapsed_sections": [],
   "include_colab_link": true,
   "name": "MNIST Digit Recognition Batch Normalization and Regularization.ipynb",
   "provenance": []
  },
  "kernelspec": {
   "display_name": "Python 3",
   "language": "python",
   "name": "python3"
  },
  "language_info": {
   "codemirror_mode": {
    "name": "ipython",
    "version": 3
   },
   "file_extension": ".py",
   "mimetype": "text/x-python",
   "name": "python",
   "nbconvert_exporter": "python",
   "pygments_lexer": "ipython3",
   "version": "3.8.5"
  }
 },
 "nbformat": 4,
 "nbformat_minor": 1
}
